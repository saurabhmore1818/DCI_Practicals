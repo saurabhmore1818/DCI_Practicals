{
  "cells": [
    {
      "cell_type": "code",
      "execution_count": null,
      "id": "be33db6c",
      "metadata": {
        "id": "be33db6c"
      },
      "outputs": [],
      "source": [
        "import random\n",
        "from deap import base, creator, tools, algorithms"
      ]
    },
    {
      "cell_type": "code",
      "execution_count": null,
      "id": "8c7171b6",
      "metadata": {
        "id": "8c7171b6"
      },
      "outputs": [],
      "source": [
        "# Define the evaluation function (minimize a simple mathematical function)\n",
        "def eval_func(individual):\n",
        "    # Example evaluation function (minimize a quadratic function)\n",
        "    return sum(x ** 2 for x in individual),"
      ]
    },
    {
      "cell_type": "code",
      "execution_count": null,
      "id": "35ab9716",
      "metadata": {
        "id": "35ab9716"
      },
      "outputs": [],
      "source": [
        "# DEAP setup\n",
        "creator.create(\"FitnessMin\", base.Fitness, weights=(-1.0,))\n",
        "creator.create(\"Individual\", list, fitness=creator.FitnessMin)"
      ]
    },
    {
      "cell_type": "code",
      "execution_count": null,
      "id": "4aa6c6f3",
      "metadata": {
        "id": "4aa6c6f3"
      },
      "outputs": [],
      "source": [
        "toolbox = base.Toolbox()"
      ]
    },
    {
      "cell_type": "code",
      "execution_count": null,
      "id": "bc3e083b",
      "metadata": {
        "id": "bc3e083b"
      },
      "outputs": [],
      "source": [
        "# Define attributes and individuals\n",
        "toolbox.register(\"attr_float\", random.uniform, -5.0, 5.0)  # Example: Float values between -5 and 5\n",
        "toolbox.register(\"individual\", tools.initRepeat, creator.Individual, toolbox.attr_float, n=3)  # Example: 3-dimensional individual\n",
        "toolbox.register(\"population\", tools.initRepeat, list, toolbox.individual)"
      ]
    },
    {
      "cell_type": "code",
      "execution_count": null,
      "id": "56622709",
      "metadata": {
        "id": "56622709"
      },
      "outputs": [],
      "source": [
        "# Evaluation function and genetic operators\n",
        "toolbox.register(\"evaluate\", eval_func)\n",
        "toolbox.register(\"mate\", tools.cxBlend, alpha=0.5)\n",
        "toolbox.register(\"mutate\", tools.mutGaussian, mu=0, sigma=1, indpb=0.2)\n",
        "toolbox.register(\"select\", tools.selTournament, tournsize=3)"
      ]
    },
    {
      "cell_type": "code",
      "execution_count": null,
      "id": "86c89122",
      "metadata": {
        "id": "86c89122"
      },
      "outputs": [],
      "source": [
        "# Create population\n",
        "population = toolbox.population(n=50)"
      ]
    },
    {
      "cell_type": "code",
      "execution_count": null,
      "id": "d6dd79f5",
      "metadata": {
        "id": "d6dd79f5"
      },
      "outputs": [],
      "source": [
        "# Genetic Algorithm parameters\n",
        "generations = 20"
      ]
    },
    {
      "cell_type": "code",
      "execution_count": null,
      "id": "bbeae599",
      "metadata": {
        "id": "bbeae599"
      },
      "outputs": [],
      "source": [
        "# Run the algorithm\n",
        "for gen in range(generations):\n",
        "    offspring = algorithms.varAnd(population, toolbox, cxpb=0.5, mutpb=0.1)\n",
        "\n",
        "    fits = toolbox.map(toolbox.evaluate, offspring)\n",
        "    for fit, ind in zip(fits, offspring):\n",
        "        ind.fitness.values = fit\n",
        "\n",
        "    population = toolbox.select(offspring, k=len(population))"
      ]
    },
    {
      "cell_type": "code",
      "execution_count": null,
      "id": "19af7509",
      "metadata": {
        "id": "19af7509",
        "outputId": "a2e26ceb-0a76-4455-9231-88a499bbc702"
      },
      "outputs": [
        {
          "name": "stdout",
          "output_type": "stream",
          "text": [
            "Best individual: [0.004203628922240612, 0.0011996933224371602, 0.00016966566135762735]\n",
            "Best fitness: 1.9138546620442e-05\n"
          ]
        }
      ],
      "source": [
        "# Get the best individual after generations\n",
        "best_ind = tools.selBest(population, k=1)[0]\n",
        "best_fitness = best_ind.fitness.values[0]\n",
        "\n",
        "print(\"Best individual:\", best_ind)\n",
        "print(\"Best fitness:\", best_fitness)"
      ]
    },
    {
      "cell_type": "code",
      "execution_count": null,
      "id": "1efbde27",
      "metadata": {
        "id": "1efbde27"
      },
      "outputs": [],
      "source": []
    }
  ],
  "metadata": {
    "kernelspec": {
      "display_name": "Python 3 (ipykernel)",
      "language": "python",
      "name": "python3"
    },
    "language_info": {
      "codemirror_mode": {
        "name": "ipython",
        "version": 3
      },
      "file_extension": ".py",
      "mimetype": "text/x-python",
      "name": "python",
      "nbconvert_exporter": "python",
      "pygments_lexer": "ipython3",
      "version": "3.8.5"
    },
    "colab": {
      "provenance": []
    }
  },
  "nbformat": 4,
  "nbformat_minor": 5
}