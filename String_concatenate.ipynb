{
  "nbformat": 4,
  "nbformat_minor": 0,
  "metadata": {
    "colab": {
      "provenance": []
    },
    "kernelspec": {
      "name": "python3",
      "display_name": "Python 3"
    },
    "language_info": {
      "name": "python"
    }
  },
  "cells": [
    {
      "cell_type": "code",
      "execution_count": 1,
      "metadata": {
        "colab": {
          "base_uri": "https://localhost:8080/"
        },
        "id": "QQsBfCKbdxE9",
        "outputId": "9629f5c4-29d0-4f15-fa30-203a269f8b8c"
      },
      "outputs": [
        {
          "output_type": "stream",
          "name": "stdout",
          "text": [
            "✅ ConcatService Server is running at http://localhost:8000/RPC2\n",
            "Enter first string: Abhishek\n",
            "Enter second string: Shelar\n",
            "🖇️ Result from server: AbhishekShelar\n"
          ]
        },
        {
          "output_type": "stream",
          "name": "stderr",
          "text": [
            "127.0.0.1 - - [28/Apr/2025 03:36:10] \"POST /RPC2 HTTP/1.1\" 200 -\n"
          ]
        }
      ],
      "source": [
        "import threading\n",
        "import time\n",
        "from xmlrpc.server import SimpleXMLRPCServer, SimpleXMLRPCRequestHandler\n",
        "import xmlrpc.client\n",
        "\n",
        "# ---------------------- Server Code ----------------------\n",
        "# Restrict to a particular path\n",
        "class RequestHandler(SimpleXMLRPCRequestHandler):\n",
        "    rpc_paths = ('/RPC2',)\n",
        "\n",
        "# Define the service\n",
        "class ConcatService:\n",
        "    def concatenate(self, str1, str2):\n",
        "        return str1 + str2\n",
        "\n",
        "def start_server():\n",
        "    with SimpleXMLRPCServer((\"localhost\", 8000), requestHandler=RequestHandler, allow_none=True) as server:\n",
        "        server.register_instance(ConcatService())\n",
        "        print(\"✅ ConcatService Server is running at http://localhost:8000/RPC2\")\n",
        "        server.serve_forever()\n",
        "\n",
        "# Start server in a separate thread\n",
        "server_thread = threading.Thread(target=start_server, daemon=True)\n",
        "server_thread.start()\n",
        "\n",
        "# Give the server some time to start\n",
        "time.sleep(1)\n",
        "\n",
        "# ---------------------- Client Code ----------------------\n",
        "# Connect to the server\n",
        "server = xmlrpc.client.ServerProxy(\"http://localhost:8000/RPC2\")\n",
        "\n",
        "# Input from user\n",
        "str1 = input(\"Enter first string: \")\n",
        "str2 = input(\"Enter second string: \")\n",
        "\n",
        "# Call the remote method\n",
        "try:\n",
        "    result = server.concatenate(str1, str2)\n",
        "    print(f\"🖇️ Result from server: {result}\")\n",
        "except Exception as e:\n",
        "    print(f\"❌ Error: {e}\")\n"
      ]
    }
  ]
}