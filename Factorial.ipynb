{
  "nbformat": 4,
  "nbformat_minor": 0,
  "metadata": {
    "colab": {
      "provenance": []
    },
    "kernelspec": {
      "name": "python3",
      "display_name": "Python 3"
    },
    "language_info": {
      "name": "python"
    }
  },
  "cells": [
    {
      "cell_type": "code",
      "execution_count": 1,
      "metadata": {
        "colab": {
          "base_uri": "https://localhost:8080/"
        },
        "id": "8_bAkmhPdPDJ",
        "outputId": "d75f8f22-0b10-47d9-8433-e0a4784f1fce"
      },
      "outputs": [
        {
          "output_type": "stream",
          "name": "stdout",
          "text": [
            "✅ FactorialServer is running at http://localhost:8000/RPC2\n",
            "Enter the number: 5\n",
            "Factorial of 5 is: 120\n"
          ]
        },
        {
          "output_type": "stream",
          "name": "stderr",
          "text": [
            "127.0.0.1 - - [28/Apr/2025 03:34:06] \"POST /RPC2 HTTP/1.1\" 200 -\n"
          ]
        }
      ],
      "source": [
        "import threading\n",
        "import time\n",
        "from xmlrpc.server import SimpleXMLRPCServer, SimpleXMLRPCRequestHandler\n",
        "import xmlrpc.client\n",
        "\n",
        "# ---------------------- Server Code ----------------------\n",
        "class FactorialServer:\n",
        "    def calculate_factorial(self, n):\n",
        "        if n < 0:\n",
        "            raise ValueError(\"Input must not be negative\")\n",
        "        result = 1\n",
        "        for i in range(1, n + 1):\n",
        "            result *= i\n",
        "        return result\n",
        "\n",
        "class RequestHandler(SimpleXMLRPCRequestHandler):\n",
        "    rpc_paths = ('/RPC2',)\n",
        "\n",
        "def start_server():\n",
        "    with SimpleXMLRPCServer(('localhost', 8000), requestHandler=RequestHandler, allow_none=True) as server:\n",
        "        server.register_introspection_functions()\n",
        "        server.register_instance(FactorialServer())\n",
        "        print(\"✅ FactorialServer is running at http://localhost:8000/RPC2\")\n",
        "        server.serve_forever()\n",
        "\n",
        "# Start server in a separate thread\n",
        "server_thread = threading.Thread(target=start_server, daemon=True)\n",
        "server_thread.start()\n",
        "\n",
        "# Give the server some time to start\n",
        "time.sleep(1)\n",
        "\n",
        "# ---------------------- Client Code ----------------------\n",
        "# Connect to the server\n",
        "proxy = xmlrpc.client.ServerProxy('http://localhost:8000/RPC2')\n",
        "\n",
        "# Take input from user\n",
        "n = int(input(\"Enter the number: \"))\n",
        "\n",
        "# Call the remote method\n",
        "try:\n",
        "    result = proxy.calculate_factorial(n)\n",
        "    print(f\"Factorial of {n} is: {result}\")\n",
        "except Exception as e:\n",
        "    print(f\"❌ Error: {e}\")\n"
      ]
    }
  ]
}