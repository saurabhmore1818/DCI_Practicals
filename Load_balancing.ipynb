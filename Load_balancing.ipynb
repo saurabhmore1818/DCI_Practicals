{
  "nbformat": 4,
  "nbformat_minor": 0,
  "metadata": {
    "colab": {
      "provenance": []
    },
    "kernelspec": {
      "name": "python3",
      "display_name": "Python 3"
    },
    "language_info": {
      "name": "python"
    }
  },
  "cells": [
    {
      "cell_type": "code",
      "execution_count": 1,
      "metadata": {
        "colab": {
          "base_uri": "https://localhost:8080/"
        },
        "id": "z2XLH1Uxcs7s",
        "outputId": "921595bb-8e5f-4066-d29f-d12d7150ef38"
      },
      "outputs": [
        {
          "output_type": "stream",
          "name": "stdout",
          "text": [
            "Server 1 processed request from Client 1\n",
            "Server 2 processed request from Client 2\n",
            "Server 3 processed request from Client 3\n",
            "Server 1 processed request from Client 4\n",
            "Server 2 processed request from Client 5\n",
            "Server 3 processed request from Client 6\n",
            "Server 1 processed request from Client 7\n",
            "Server 2 processed request from Client 8\n",
            "Server 3 processed request from Client 9\n",
            "Server 1 processed request from Client 10\n",
            "\n",
            "=== Server Request Counts ===\n",
            "Server 1: 4 requests\n",
            "Server 2: 3 requests\n",
            "Server 3: 3 requests\n"
          ]
        }
      ],
      "source": [
        "import random\n",
        "import time\n",
        "\n",
        "# Server simulation\n",
        "class Server:\n",
        "    def __init__(self, server_id):\n",
        "        self.server_id = server_id\n",
        "        self.request_count = 0  # Track how many requests processed\n",
        "\n",
        "    def process_request(self, client_id):\n",
        "        self.request_count += 1\n",
        "        print(f\"Server {self.server_id} processed request from Client {client_id}\")\n",
        "\n",
        "# Load Balancer\n",
        "class LoadBalancer:\n",
        "    def __init__(self, servers, strategy=\"round_robin\"):\n",
        "        self.servers = servers\n",
        "        self.strategy = strategy\n",
        "        self.index = 0  # for round robin\n",
        "\n",
        "    def distribute_request(self, client_id):\n",
        "        if self.strategy == \"round_robin\":\n",
        "            server = self.servers[self.index]\n",
        "            self.index = (self.index + 1) % len(self.servers)\n",
        "        elif self.strategy == \"random\":\n",
        "            server = random.choice(self.servers)\n",
        "        else:\n",
        "            raise ValueError(f\"Unknown strategy: {self.strategy}\")\n",
        "\n",
        "        server.process_request(client_id)\n",
        "\n",
        "# Simulate client requests\n",
        "def simulate_clients(load_balancer, num_clients):\n",
        "    for client_id in range(1, num_clients + 1):\n",
        "        load_balancer.distribute_request(client_id)\n",
        "        time.sleep(0.5)  # half a second delay to simulate real-world traffic\n",
        "\n",
        "# Main program\n",
        "if __name__ == \"__main__\":\n",
        "    # Create servers\n",
        "    servers = [Server(server_id=i) for i in range(1, 4)]\n",
        "\n",
        "    # Create Load Balancer - strategy can be \"round_robin\" or \"random\"\n",
        "    lb = LoadBalancer(servers, strategy=\"round_robin\")\n",
        "\n",
        "    # Simulate 10 clients\n",
        "    simulate_clients(lb, num_clients=10)\n",
        "\n",
        "    # Show server request counts\n",
        "    print(\"\\n=== Server Request Counts ===\")\n",
        "    for server in servers:\n",
        "        print(f\"Server {server.server_id}: {server.request_count} requests\")\n"
      ]
    }
  ]
}